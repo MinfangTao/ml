{
 "cells": [
  {
   "cell_type": "code",
   "execution_count": null,
   "metadata": {
    "colab": {
     "base_uri": "https://localhost:8080/"
    },
    "executionInfo": {
     "elapsed": 10661,
     "status": "ok",
     "timestamp": 1686800433294,
     "user": {
      "displayName": "Minfang Tao",
      "userId": "17841541078559731178"
     },
     "user_tz": 420
    },
    "id": "QVxhga88rtMG",
    "outputId": "ea8a4cac-f479-42c2-ed3f-266d63c97523",
    "tags": []
   },
   "outputs": [],
   "source": [
    "!pip install tensorflow\n",
    "!pip install keras"
   ]
  },
  {
   "cell_type": "code",
   "execution_count": null,
   "metadata": {
    "executionInfo": {
     "elapsed": 1118,
     "status": "ok",
     "timestamp": 1686800522302,
     "user": {
      "displayName": "Minfang Tao",
      "userId": "17841541078559731178"
     },
     "user_tz": 420
    },
    "id": "adClbsjBsHnK",
    "tags": []
   },
   "outputs": [],
   "source": [
    "import keras\n",
    "from keras.datasets import mnist\n",
    "from keras.models import Sequential\n",
    "from keras.layers import Dense\n",
    "from keras.optimizers import SGD\n",
    "from matplotlib import pyplot as plt\n"
   ]
  },
  {
   "cell_type": "code",
   "execution_count": null,
   "metadata": {
    "executionInfo": {
     "elapsed": 8,
     "status": "ok",
     "timestamp": 1686803161033,
     "user": {
      "displayName": "Minfang Tao",
      "userId": "17841541078559731178"
     },
     "user_tz": 420
    },
    "id": "q_3zFZTZ5LnJ",
    "tags": []
   },
   "outputs": [],
   "source": [
    "(x_train,y_train),(x_valid,y_valid)=mnist.load_data()"
   ]
  },
  {
   "cell_type": "code",
   "execution_count": null,
   "metadata": {
    "colab": {
     "base_uri": "https://localhost:8080/"
    },
    "executionInfo": {
     "elapsed": 625,
     "status": "ok",
     "timestamp": 1686800533131,
     "user": {
      "displayName": "Minfang Tao",
      "userId": "17841541078559731178"
     },
     "user_tz": 420
    },
    "id": "4ZVVYxF15NEV",
    "outputId": "075e5420-1357-49c5-e7f8-2badd8315c59",
    "tags": []
   },
   "outputs": [],
   "source": [
    "print(f\"xt:{x_train.shape} yt:{y_train.shape} yt12:{y_train[0:12]}\")"
   ]
  },
  {
   "cell_type": "code",
   "execution_count": null,
   "metadata": {
    "colab": {
     "base_uri": "https://localhost:8080/",
     "height": 447
    },
    "executionInfo": {
     "elapsed": 1447,
     "status": "ok",
     "timestamp": 1686800538149,
     "user": {
      "displayName": "Minfang Tao",
      "userId": "17841541078559731178"
     },
     "user_tz": 420
    },
    "id": "xYt9iuH45VM7",
    "outputId": "0a7926d6-c72b-48d2-de08-e7cd0bfbc954",
    "tags": []
   },
   "outputs": [],
   "source": [
    "plt.figure(figsize=(5,5))\n",
    "for k in range(12):\n",
    "    plt.subplot(3,4,k+1)\n",
    "    plt.imshow(x_train[k],cmap=\"Greys\")\n",
    "    plt.axis('off')\n",
    "plt.tight_layout()\n",
    "plt.show()"
   ]
  },
  {
   "cell_type": "code",
   "execution_count": null,
   "metadata": {
    "executionInfo": {
     "elapsed": 6,
     "status": "ok",
     "timestamp": 1686802721163,
     "user": {
      "displayName": "Minfang Tao",
      "userId": "17841541078559731178"
     },
     "user_tz": 420
    },
    "id": "4sB9ML42QAZI",
    "tags": []
   },
   "outputs": [],
   "source": [
    "def flat_2d_to_1d(data,new_type='float32'):\n",
    "  s=data.shape\n",
    "  if len(s) == 3:\n",
    "\n",
    "    return data.reshape(s[0],s[1]*s[2]).astype(new_type)\n",
    "  else:\n",
    "    return data\n"
   ]
  },
  {
   "cell_type": "code",
   "execution_count": null,
   "metadata": {
    "executionInfo": {
     "elapsed": 620,
     "status": "ok",
     "timestamp": 1686803166954,
     "user": {
      "displayName": "Minfang Tao",
      "userId": "17841541078559731178"
     },
     "user_tz": 420
    },
    "id": "OQ4Jz89OOgwL",
    "tags": []
   },
   "outputs": [],
   "source": [
    "\n",
    "# flat them\n",
    "x_train=flat_2d_to_1d(x_train)\n",
    "\n",
    "x_valid=flat_2d_to_1d(x_valid)"
   ]
  },
  {
   "cell_type": "code",
   "execution_count": null,
   "metadata": {
    "executionInfo": {
     "elapsed": 6,
     "status": "ok",
     "timestamp": 1686803168668,
     "user": {
      "displayName": "Minfang Tao",
      "userId": "17841541078559731178"
     },
     "user_tz": 420
    },
    "id": "xzC3bxKGR3Fi",
    "tags": []
   },
   "outputs": [],
   "source": [
    "x_train/=255\n",
    "x_valid/=255\n",
    "\n",
    "\n"
   ]
  },
  {
   "cell_type": "code",
   "execution_count": null,
   "metadata": {
    "executionInfo": {
     "elapsed": 6,
     "status": "ok",
     "timestamp": 1686803486694,
     "user": {
      "displayName": "Minfang Tao",
      "userId": "17841541078559731178"
     },
     "user_tz": 420
    },
    "id": "JhYziII3TTJw",
    "tags": []
   },
   "outputs": [],
   "source": [
    "# convert y to one-hot\n",
    "from keras.utils import to_categorical\n",
    "y_train=to_categorical(y_train,10)\n",
    "y_valid =to_categorical(y_valid,10)"
   ]
  },
  {
   "cell_type": "code",
   "execution_count": null,
   "metadata": {
    "executionInfo": {
     "elapsed": 387,
     "status": "ok",
     "timestamp": 1686804074745,
     "user": {
      "displayName": "Minfang Tao",
      "userId": "17841541078559731178"
     },
     "user_tz": 420
    },
    "id": "VRAJea0KVMKt",
    "tags": []
   },
   "outputs": [],
   "source": [
    "# create the model\n",
    "\n",
    "model=Sequential()\n",
    "model.add(Dense(64,activation='sigmoid',input_shape=(784,)))\n",
    "model.add(Dense(10,activation='softmax'))\n",
    "\n",
    "model.compile(loss='mean_squared_error',optimizer=SGD(learning_rate=0.01),metrics=['accuracy'])"
   ]
  },
  {
   "cell_type": "code",
   "execution_count": null,
   "metadata": {
    "colab": {
     "base_uri": "https://localhost:8080/"
    },
    "executionInfo": {
     "elapsed": 572113,
     "status": "ok",
     "timestamp": 1686804768404,
     "user": {
      "displayName": "Minfang Tao",
      "userId": "17841541078559731178"
     },
     "user_tz": 420
    },
    "id": "5k3SvyrbXD4W",
    "outputId": "e237b1e6-aaa2-4f17-c287-fd70632ed4e1",
    "tags": []
   },
   "outputs": [],
   "source": [
    "model.fit(x_train,y_train,batch_size=128,epochs=300,verbose=1,validation_data=(x_valid,y_valid))"
   ]
  },
  {
   "cell_type": "code",
   "execution_count": null,
   "metadata": {
    "colab": {
     "base_uri": "https://localhost:8080/"
    },
    "executionInfo": {
     "elapsed": 624,
     "status": "ok",
     "timestamp": 1686810378767,
     "user": {
      "displayName": "Minfang Tao",
      "userId": "17841541078559731178"
     },
     "user_tz": -480
    },
    "id": "6nBIT1Ttu6TX",
    "outputId": "076a5e84-db88-465f-b9c5-53f3f94090a6"
   },
   "outputs": [],
   "source": [
    "x_train\n"
   ]
  }
 ],
 "metadata": {
  "colab": {
   "authorship_tag": "ABX9TyOckFGYQEKePxW/XfSH9/ZH",
   "provenance": []
  },
  "kernelspec": {
   "display_name": "Python 3 (ipykernel)",
   "language": "python",
   "name": "python3"
  },
  "language_info": {
   "codemirror_mode": {
    "name": "ipython",
    "version": 3
   },
   "file_extension": ".py",
   "mimetype": "text/x-python",
   "name": "python",
   "nbconvert_exporter": "python",
   "pygments_lexer": "ipython3",
   "version": "3.10.9"
  }
 },
 "nbformat": 4,
 "nbformat_minor": 4
}
